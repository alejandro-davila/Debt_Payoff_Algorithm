{
 "cells": [
  {
   "cell_type": "code",
   "execution_count": 1,
   "id": "6a661625-7894-464f-a361-572d40f0af10",
   "metadata": {
    "tags": []
   },
   "outputs": [],
   "source": [
    "import pandas as pd\n",
    "from datetime import datetime, timedelta\n",
    "    "
   ]
  },
  {
   "cell_type": "code",
   "execution_count": 4,
   "id": "512efc0c-1eac-4793-986e-3d98149b0d20",
   "metadata": {
    "tags": []
   },
   "outputs": [
    {
     "name": "stdin",
     "output_type": "stream",
     "text": [
      "Enter the name of the purchase:  Bent_Ray\n",
      "Enter the principal amount:  289750\n",
      "Enter the annual percentage rate (APR):  4.5\n",
      "Enter the number of months of the loan:  360\n",
      "Enter the start date of payment (YYYY-MM):  2017-01\n"
     ]
    },
    {
     "name": "stdout",
     "output_type": "stream",
     "text": [
      "     Month Payment Date      Payment     Interest    Principal  \\\n",
      "0        1      2017-01  1468.120685  1086.562500   381.558185   \n",
      "1        2      2017-01  1468.120685  1085.131657   382.989028   \n",
      "2        3      2017-03  1468.120685  1083.695448   384.425237   \n",
      "3        4      2017-04  1468.120685  1082.253853   385.866832   \n",
      "4        5      2017-05  1468.120685  1080.806853   387.313833   \n",
      "..     ...          ...          ...          ...          ...   \n",
      "355    356      2046-02  1468.120685    27.220271  1440.900415   \n",
      "356    357      2046-03  1468.120685    21.816894  1446.303791   \n",
      "357    358      2046-04  1468.120685    16.393255  1451.727430   \n",
      "358    359      2046-05  1468.120685    10.949277  1457.171408   \n",
      "359    360      2046-06  1468.120685     5.484884  1462.635801   \n",
      "\n",
      "     Remaining Principal  \n",
      "0           2.893684e+05  \n",
      "1           2.889855e+05  \n",
      "2           2.886010e+05  \n",
      "3           2.882152e+05  \n",
      "4           2.878278e+05  \n",
      "..                   ...  \n",
      "355         5.817838e+03  \n",
      "356         4.371535e+03  \n",
      "357         2.919807e+03  \n",
      "358         1.462636e+03  \n",
      "359        -1.075364e-08  \n",
      "\n",
      "[360 rows x 6 columns]\n",
      "Amortization schedule saved to Bent_Ray_amortization_schedule.csv\n"
     ]
    }
   ],
   "source": [
    "def calculate_amortization_schedule(principal, apr, num_months, start_date):\n",
    "    monthly_interest_rate = apr / 12 / 100\n",
    "    monthly_payment = principal * (monthly_interest_rate * (1 + monthly_interest_rate) ** num_months) / ((1 + monthly_interest_rate) ** num_months - 1)\n",
    "\n",
    "    amortization_schedule = []\n",
    "\n",
    "    remaining_principal = principal\n",
    "    payment_date = datetime.strptime(start_date, \"%Y-%m\")\n",
    "\n",
    "    for month in range(1, num_months + 1):\n",
    "        interest_payment = remaining_principal * monthly_interest_rate\n",
    "        principal_payment = monthly_payment - interest_payment\n",
    "        remaining_principal -= principal_payment\n",
    "\n",
    "        amortization_schedule.append((month, payment_date.strftime(\"%Y-%m\"), monthly_payment, interest_payment, principal_payment, remaining_principal))\n",
    "\n",
    "        # Calculate the payment date for the next month\n",
    "        payment_date += timedelta(days=30)  # Assuming a 30-day month for simplicity\n",
    "\n",
    "    return amortization_schedule\n",
    "\n",
    "def create_amortization_dataframe(amortization_schedule):\n",
    "    columns = [\"Month\", \"Payment Date\", \"Payment\", \"Interest\", \"Principal\", \"Remaining Principal\"]\n",
    "    df = pd.DataFrame(amortization_schedule, columns=columns)\n",
    "    return df\n",
    "\n",
    "def main():\n",
    "    name_of_purchase = input(\"Enter the name of the purchase: \")\n",
    "    principal = float(input(\"Enter the principal amount: \"))\n",
    "    apr = float(input(\"Enter the annual percentage rate (APR): \"))\n",
    "    num_months = int(input(\"Enter the number of months of the loan: \"))\n",
    "    start_date = input(\"Enter the start date of payment (YYYY-MM): \")\n",
    "\n",
    "    amortization_schedule = calculate_amortization_schedule(principal, apr, num_months, start_date)\n",
    "\n",
    "    df = create_amortization_dataframe(amortization_schedule)\n",
    "    print(df)\n",
    "    \n",
    "    # Specify the CSV file path where you want to save the DataFrame\n",
    "    csv_file_path = f\"{name_of_purchase}_amortization_schedule.csv\"\n",
    "\n",
    "    # Save the DataFrame to a CSV file\n",
    "    df.to_csv(csv_file_path, index=False)\n",
    "    \n",
    "    print(f\"Amortization schedule saved to {csv_file_path}\")\n",
    "\n",
    "if __name__ == \"__main__\":\n",
    "    main()"
   ]
  },
  {
   "cell_type": "code",
   "execution_count": null,
   "id": "31e49b3f-6bd3-4ec3-9830-9305d5b84fad",
   "metadata": {},
   "outputs": [],
   "source": []
  },
  {
   "cell_type": "code",
   "execution_count": null,
   "id": "5638f24c-02a1-4632-81b5-7db8488e41c5",
   "metadata": {},
   "outputs": [],
   "source": []
  },
  {
   "cell_type": "code",
   "execution_count": null,
   "id": "0bd0e481-98d4-4153-bf1a-0d8ed2789978",
   "metadata": {},
   "outputs": [],
   "source": []
  },
  {
   "cell_type": "code",
   "execution_count": null,
   "id": "4ceb952e-b5ee-4af1-af79-e556457367b7",
   "metadata": {},
   "outputs": [],
   "source": []
  },
  {
   "cell_type": "code",
   "execution_count": null,
   "id": "83d83a12-4b6f-4e3c-a4b7-5b84328bc8e4",
   "metadata": {},
   "outputs": [],
   "source": []
  },
  {
   "cell_type": "code",
   "execution_count": null,
   "id": "729af18c-7e9e-4f42-8de5-a6e6a1222495",
   "metadata": {},
   "outputs": [],
   "source": []
  },
  {
   "cell_type": "code",
   "execution_count": null,
   "id": "8d0b3a23-7466-4303-8e5f-9772aea7cd60",
   "metadata": {},
   "outputs": [],
   "source": []
  },
  {
   "cell_type": "code",
   "execution_count": null,
   "id": "46e9600a-7f70-4670-a617-626a26d675b9",
   "metadata": {},
   "outputs": [],
   "source": []
  },
  {
   "cell_type": "code",
   "execution_count": null,
   "id": "4ad8c0f8-b76b-4a82-9631-a3fa6b769fba",
   "metadata": {},
   "outputs": [],
   "source": []
  },
  {
   "cell_type": "code",
   "execution_count": null,
   "id": "47dd04a3-3ca2-4f77-96e9-2fb81995b653",
   "metadata": {},
   "outputs": [],
   "source": []
  },
  {
   "cell_type": "code",
   "execution_count": null,
   "id": "9319e75f-8230-4eec-a0cf-48f553d73a55",
   "metadata": {},
   "outputs": [],
   "source": []
  }
 ],
 "metadata": {
  "kernelspec": {
   "display_name": "Python 3 (ipykernel)",
   "language": "python",
   "name": "python3"
  },
  "language_info": {
   "codemirror_mode": {
    "name": "ipython",
    "version": 3
   },
   "file_extension": ".py",
   "mimetype": "text/x-python",
   "name": "python",
   "nbconvert_exporter": "python",
   "pygments_lexer": "ipython3",
   "version": "3.10.11"
  }
 },
 "nbformat": 4,
 "nbformat_minor": 5
}
